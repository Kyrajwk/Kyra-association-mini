{
 "cells": [
  {
   "cell_type": "code",
   "execution_count": 40,
   "id": "5f1b1062",
   "metadata": {},
   "outputs": [],
   "source": [
    "import random\n",
    "import pandas as pd\n",
    "from mlxtend.frequent_patterns import apriori"
   ]
  },
  {
   "cell_type": "code",
   "execution_count": 41,
   "id": "dc26c9dd",
   "metadata": {},
   "outputs": [],
   "source": [
    "#Pool of 8 unique items\n",
    "items_pool = ['Bread', 'Milk', 'Tissue', 'Yoghurt', 'Apples', 'Bananas', 'Chicken', 'Rice']"
   ]
  },
  {
   "cell_type": "code",
   "execution_count": 42,
   "id": "3705a4e4",
   "metadata": {},
   "outputs": [],
   "source": [
    "#Select random items from pool\n",
    "transactions = []\n",
    "\n",
    "for _ in range(10):\n",
    "    num_items = random.randint(2, 5)  # Number of items in the transaction\n",
    "    transaction = random.sample(items_pool, num_items)  # Random sample without replacement\n",
    "    transactions.append(transaction)"
   ]
  },
  {
   "cell_type": "code",
   "execution_count": 43,
   "id": "cc3ae4fe",
   "metadata": {},
   "outputs": [
    {
     "name": "stdout",
     "output_type": "stream",
     "text": [
      "Transaction 1: ['Milk', 'Rice', 'Yoghurt', 'Bread']\n",
      "Transaction 2: ['Bread', 'Apples', 'Bananas', 'Rice']\n",
      "Transaction 3: ['Rice', 'Tissue']\n",
      "Transaction 4: ['Tissue', 'Milk', 'Yoghurt', 'Bread', 'Bananas']\n",
      "Transaction 5: ['Yoghurt', 'Bread', 'Rice']\n",
      "Transaction 6: ['Bananas', 'Bread', 'Tissue']\n",
      "Transaction 7: ['Chicken', 'Rice', 'Milk']\n",
      "Transaction 8: ['Yoghurt', 'Chicken', 'Bananas', 'Bread']\n",
      "Transaction 9: ['Chicken', 'Rice', 'Bread', 'Yoghurt', 'Apples']\n",
      "Transaction 10: ['Rice', 'Tissue', 'Bread', 'Yoghurt', 'Chicken']\n"
     ]
    }
   ],
   "source": [
    "#print 10 transcactions\n",
    "for i, t in enumerate(transactions, 1):\n",
    "    print(f\"Transaction {i}: {t}\")"
   ]
  },
  {
   "cell_type": "code",
   "execution_count": 44,
   "id": "cd288939",
   "metadata": {},
   "outputs": [
    {
     "name": "stdout",
     "output_type": "stream",
     "text": [
      "   Bananas  Bread  Apples  Yoghurt   Milk  Tissue   Rice  Chicken\n",
      "0    False   True   False     True   True   False   True    False\n",
      "1     True   True    True    False  False   False   True    False\n",
      "2    False  False   False    False  False    True   True    False\n",
      "3     True   True   False     True   True    True  False    False\n",
      "4    False   True   False     True  False   False   True    False\n",
      "5     True   True   False    False  False    True  False    False\n",
      "6    False  False   False    False   True   False   True     True\n",
      "7     True   True   False     True  False   False  False     True\n",
      "8    False   True    True     True  False   False   True     True\n",
      "9    False   True   False     True  False    True   True     True\n"
     ]
    }
   ],
   "source": [
    "# Preparing the transaction data so it’s easy for the Apriori algorithm to understand (one-hot encoding format)\n",
    "\n",
    "# Get all unique items\n",
    "all_items = set(item for transaction in transactions for item in transaction)\n",
    "\n",
    "# Encode transactions into one-hot dataframe\n",
    "encoded_vals = []\n",
    "for transaction in transactions:\n",
    "    row = {item: (item in transaction) for item in all_items}\n",
    "    encoded_vals.append(row)\n",
    "\n",
    "df = pd.DataFrame(encoded_vals)\n",
    "\n",
    "# Preview the dataframe\n",
    "print(df)"
   ]
  },
  {
   "cell_type": "code",
   "execution_count": 45,
   "id": "9a5300ee",
   "metadata": {},
   "outputs": [
    {
     "name": "stdout",
     "output_type": "stream",
     "text": [
      "    support                   itemsets\n",
      "0       0.4                  (Bananas)\n",
      "1       0.8                    (Bread)\n",
      "2       0.6                  (Yoghurt)\n",
      "3       0.3                     (Milk)\n",
      "4       0.4                   (Tissue)\n",
      "5       0.7                     (Rice)\n",
      "6       0.4                  (Chicken)\n",
      "7       0.4           (Bananas, Bread)\n",
      "8       0.6           (Yoghurt, Bread)\n",
      "9       0.3            (Tissue, Bread)\n",
      "10      0.5              (Rice, Bread)\n",
      "11      0.3           (Chicken, Bread)\n",
      "12      0.4            (Rice, Yoghurt)\n",
      "13      0.3         (Chicken, Yoghurt)\n",
      "14      0.3            (Chicken, Rice)\n",
      "15      0.4     (Rice, Yoghurt, Bread)\n",
      "16      0.3  (Chicken, Yoghurt, Bread)\n"
     ]
    }
   ],
   "source": [
    "frequent_itemsets = apriori(df, min_support=0.3, use_colnames=True)\n",
    "print(frequent_itemsets)"
   ]
  },
  {
   "cell_type": "code",
   "execution_count": 46,
   "id": "a98d42c0",
   "metadata": {},
   "outputs": [
    {
     "name": "stdout",
     "output_type": "stream",
     "text": [
      "\n",
      "Association Rules (confidence >= 70%):\n",
      "           antecedents       consequents  support  confidence  leverage\n",
      "0            (Bananas)           (Bread)      0.4    1.000000      0.08\n",
      "1            (Yoghurt)           (Bread)      0.6    1.000000      0.12\n",
      "2              (Bread)         (Yoghurt)      0.6    0.750000      0.12\n",
      "3             (Tissue)           (Bread)      0.3    0.750000     -0.02\n",
      "4               (Rice)           (Bread)      0.5    0.714286     -0.06\n",
      "5            (Chicken)           (Bread)      0.3    0.750000     -0.02\n",
      "6            (Chicken)         (Yoghurt)      0.3    0.750000      0.06\n",
      "7            (Chicken)            (Rice)      0.3    0.750000      0.02\n",
      "8      (Rice, Yoghurt)           (Bread)      0.4    1.000000      0.08\n",
      "9        (Rice, Bread)         (Yoghurt)      0.4    0.800000      0.10\n",
      "10  (Chicken, Yoghurt)           (Bread)      0.3    1.000000      0.06\n",
      "11    (Chicken, Bread)         (Yoghurt)      0.3    1.000000      0.12\n",
      "12           (Chicken)  (Yoghurt, Bread)      0.3    0.750000      0.06\n"
     ]
    }
   ],
   "source": [
    "# Now let's find interesting rules that show what items are often bought together\n",
    "\n",
    "from mlxtend.frequent_patterns import association_rules\n",
    "\n",
    "# Generate rules where confidence is at least 70%\n",
    "rules = association_rules(frequent_itemsets, metric=\"confidence\", min_threshold=0.7)\n",
    "\n",
    "# Print out at least 2 rules\n",
    "print(\"\\nAssociation Rules (confidence >= 70%):\")\n",
    "print(rules[['antecedents', 'consequents', 'support', 'confidence', 'leverage']])\n",
    "\n",
    "\n"
   ]
  }
 ],
 "metadata": {
  "kernelspec": {
   "display_name": "Python 3",
   "language": "python",
   "name": "python3"
  },
  "language_info": {
   "codemirror_mode": {
    "name": "ipython",
    "version": 3
   },
   "file_extension": ".py",
   "mimetype": "text/x-python",
   "name": "python",
   "nbconvert_exporter": "python",
   "pygments_lexer": "ipython3",
   "version": "3.12.6"
  }
 },
 "nbformat": 4,
 "nbformat_minor": 5
}
