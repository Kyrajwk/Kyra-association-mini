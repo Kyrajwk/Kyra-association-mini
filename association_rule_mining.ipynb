{
 "cells": [
  {
   "cell_type": "code",
   "execution_count": 3,
   "id": "5f1b1062",
   "metadata": {},
   "outputs": [],
   "source": [
    "import random\n",
    "import pandas as pd\n",
    "from mlxtend.frequent_patterns import apriori"
   ]
  },
  {
   "cell_type": "code",
   "execution_count": 4,
   "id": "dc26c9dd",
   "metadata": {},
   "outputs": [],
   "source": [
    "#Pool of 8 unique items\n",
    "items_pool = ['Bread', 'Milk', 'Tissue', 'Yoghurt', 'Apples', 'Bananas', 'Chicken', 'Rice']"
   ]
  },
  {
   "cell_type": "code",
   "execution_count": 5,
   "id": "3705a4e4",
   "metadata": {},
   "outputs": [],
   "source": [
    "#Select random items from pool\n",
    "transactions = []\n",
    "\n",
    "for _ in range(10):\n",
    "    num_items = random.randint(2, 5)  # Number of items in the transaction\n",
    "    transaction = random.sample(items_pool, num_items)  # Random sample without replacement\n",
    "    transactions.append(transaction)"
   ]
  },
  {
   "cell_type": "code",
   "execution_count": 6,
   "id": "cc3ae4fe",
   "metadata": {},
   "outputs": [
    {
     "name": "stdout",
     "output_type": "stream",
     "text": [
      "Transaction 1: ['Bananas', 'Yoghurt']\n",
      "Transaction 2: ['Chicken', 'Milk', 'Tissue']\n",
      "Transaction 3: ['Bread', 'Rice', 'Yoghurt', 'Bananas']\n",
      "Transaction 4: ['Yoghurt', 'Tissue', 'Bananas', 'Chicken']\n",
      "Transaction 5: ['Bananas', 'Bread']\n",
      "Transaction 6: ['Milk', 'Apples', 'Bananas', 'Rice']\n",
      "Transaction 7: ['Rice', 'Apples']\n",
      "Transaction 8: ['Yoghurt', 'Tissue']\n",
      "Transaction 9: ['Tissue', 'Rice', 'Milk']\n",
      "Transaction 10: ['Milk', 'Apples', 'Yoghurt']\n"
     ]
    }
   ],
   "source": [
    "#print 10 transcactions\n",
    "for i, t in enumerate(transactions, 1):\n",
    "    print(f\"Transaction {i}: {t}\")"
   ]
  },
  {
   "cell_type": "code",
   "execution_count": 7,
   "id": "cd288939",
   "metadata": {},
   "outputs": [
    {
     "name": "stdout",
     "output_type": "stream",
     "text": [
      "   Yoghurt   Rice  Tissue  Bananas  Apples  Bread   Milk  Chicken\n",
      "0     True  False   False     True   False  False  False    False\n",
      "1    False  False    True    False   False  False   True     True\n",
      "2     True   True   False     True   False   True  False    False\n",
      "3     True  False    True     True   False  False  False     True\n",
      "4    False  False   False     True   False   True  False    False\n",
      "5    False   True   False     True    True  False   True    False\n",
      "6    False   True   False    False    True  False  False    False\n",
      "7     True  False    True    False   False  False  False    False\n",
      "8    False   True    True    False   False  False   True    False\n",
      "9     True  False   False    False    True  False   True    False\n"
     ]
    }
   ],
   "source": [
    "# Preparing the transaction data so it’s easy for the Apriori algorithm to understand (one-hot encoding format)\n",
    "\n",
    "# Get all unique items\n",
    "all_items = set(item for transaction in transactions for item in transaction)\n",
    "\n",
    "# Encode transactions into one-hot dataframe\n",
    "encoded_vals = []\n",
    "for transaction in transactions:\n",
    "    row = {item: (item in transaction) for item in all_items}\n",
    "    encoded_vals.append(row)\n",
    "\n",
    "df = pd.DataFrame(encoded_vals)\n",
    "\n",
    "# Preview the dataframe\n",
    "print(df)"
   ]
  },
  {
   "cell_type": "code",
   "execution_count": 8,
   "id": "9a5300ee",
   "metadata": {},
   "outputs": [
    {
     "name": "stdout",
     "output_type": "stream",
     "text": [
      "   support            itemsets\n",
      "0      0.5           (Yoghurt)\n",
      "1      0.4              (Rice)\n",
      "2      0.4            (Tissue)\n",
      "3      0.5           (Bananas)\n",
      "4      0.3            (Apples)\n",
      "5      0.4              (Milk)\n",
      "6      0.3  (Yoghurt, Bananas)\n"
     ]
    }
   ],
   "source": [
    "frequent_itemsets = apriori(df, min_support=0.3, use_colnames=True)\n",
    "print(frequent_itemsets)"
   ]
  },
  {
   "cell_type": "code",
   "execution_count": 9,
   "id": "a98d42c0",
   "metadata": {},
   "outputs": [],
   "source": [
    "from mlxtend.frequent_patterns import association_rules"
   ]
  },
  {
   "cell_type": "code",
   "execution_count": null,
   "id": "626ad6f3",
   "metadata": {},
   "outputs": [],
   "source": []
  }
 ],
 "metadata": {
  "kernelspec": {
   "display_name": "Python 3",
   "language": "python",
   "name": "python3"
  },
  "language_info": {
   "codemirror_mode": {
    "name": "ipython",
    "version": 3
   },
   "file_extension": ".py",
   "mimetype": "text/x-python",
   "name": "python",
   "nbconvert_exporter": "python",
   "pygments_lexer": "ipython3",
   "version": "3.12.6"
  }
 },
 "nbformat": 4,
 "nbformat_minor": 5
}
