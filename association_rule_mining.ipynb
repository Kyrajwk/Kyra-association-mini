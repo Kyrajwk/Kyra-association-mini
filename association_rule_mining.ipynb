{
 "cells": [
  {
   "cell_type": "code",
   "execution_count": 1,
   "id": "5f1b1062",
   "metadata": {},
   "outputs": [],
   "source": [
    "import random"
   ]
  },
  {
   "cell_type": "code",
   "execution_count": null,
   "id": "dc26c9dd",
   "metadata": {},
   "outputs": [],
   "source": [
    "#Pool of 8 unique items\n",
    "items_pool = ['Bread', 'Milk', 'Tissue', 'Yoghurt', 'Apples', 'Bananas', 'Chicken', 'Rice']"
   ]
  },
  {
   "cell_type": "code",
   "execution_count": null,
   "id": "3705a4e4",
   "metadata": {},
   "outputs": [],
   "source": [
    "#Select random items from pool\n",
    "transactions = []\n",
    "\n",
    "for _ in range(10):\n",
    "    num_items = random.randint(2, 5)  # Number of items in the transaction\n",
    "    transaction = random.sample(items_pool, num_items)  # Random sample without replacement\n",
    "    transactions.append(transaction)"
   ]
  },
  {
   "cell_type": "code",
   "execution_count": null,
   "id": "cc3ae4fe",
   "metadata": {},
   "outputs": [
    {
     "name": "stdout",
     "output_type": "stream",
     "text": [
      "Transaction 1: ['Chicken', 'Bread', 'Rice', 'Apples']\n",
      "Transaction 2: ['Apples', 'Tissue', 'Bread', 'Milk', 'Chicken']\n",
      "Transaction 3: ['Apples', 'Bread']\n",
      "Transaction 4: ['Bread', 'Chicken', 'Yoghurt', 'Rice', 'Bananas']\n",
      "Transaction 5: ['Bread', 'Milk']\n",
      "Transaction 6: ['Rice', 'Milk']\n",
      "Transaction 7: ['Bread', 'Apples', 'Rice', 'Chicken']\n",
      "Transaction 8: ['Rice', 'Chicken', 'Tissue', 'Yoghurt']\n",
      "Transaction 9: ['Yoghurt', 'Tissue', 'Bread', 'Rice', 'Apples']\n",
      "Transaction 10: ['Rice', 'Milk', 'Chicken']\n"
     ]
    }
   ],
   "source": [
    "#print 10 transcactions\n",
    "for i, t in enumerate(transactions, 1):\n",
    "    print(f\"Transaction {i}: {t}\")"
   ]
  }
 ],
 "metadata": {
  "kernelspec": {
   "display_name": "Python 3",
   "language": "python",
   "name": "python3"
  },
  "language_info": {
   "codemirror_mode": {
    "name": "ipython",
    "version": 3
   },
   "file_extension": ".py",
   "mimetype": "text/x-python",
   "name": "python",
   "nbconvert_exporter": "python",
   "pygments_lexer": "ipython3",
   "version": "3.12.6"
  }
 },
 "nbformat": 4,
 "nbformat_minor": 5
}
